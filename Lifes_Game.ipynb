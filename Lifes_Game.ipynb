{
 "cells": [
  {
   "cell_type": "markdown",
   "metadata": {},
   "source": [
    "Lifes_Game rev 1.0\n",
    "\n",
    "This program uses the algorith published by qualityhealth.com\n",
    "https://www.qualityhealth.com/health-lifestyle-articles/22-ways-predict-your-life-span\n",
    "\n",
    "It uses 22 different metrics to estimate a persons longevity based on various \"characteristics\" of a person's life. This is a game and should be viewed as such. The results from using this process should not be viewed as prophetic. No one knows how long they will live except the Lord. (see Job 14:5, Psalm 139:16, Matt 6:27) \n",
    "\n",
    "Again, no decisions should be made from the results of this game. It is up to the individual user to decide what is best for themselves. Before any changes are made, the appropriate professional should be consulted, NOT this game...\n",
    "\n",
    "Have fun!!!!"
   ]
  },
  {
   "cell_type": "code",
   "execution_count": 1,
   "metadata": {},
   "outputs": [],
   "source": [
    "import pandas as pd\n",
    "import numpy as np"
   ]
  },
  {
   "cell_type": "code",
   "execution_count": null,
   "metadata": {},
   "outputs": [],
   "source": [
    "# variable assignment\n",
    "baseline_male = 75\n",
    "baseline_woman = 81"
   ]
  },
  {
   "cell_type": "code",
   "execution_count": 18,
   "metadata": {},
   "outputs": [],
   "source": [
    "# sets up the dataframe df\n",
    "\n",
    "init_data = [{'Gender':'NaN', 'Age':'NaN', 'Marital Status':'NaN', 'Education Level':'NaN', \n",
    "              'Financial Income': 'NaN', 'Location': 'NaN', 'Family History': 'NaN', \n",
    "              'Medical History': 'NaN', 'Weight': 'NaN', 'Smoking Habits': 'NaN', \n",
    "              'Drinking Habits': 'Nan', 'Eating Habits': 'NaN', 'Exercise Levels': 'NaN', \n",
    "              'Sleeping Habits': 'NaN', 'Safety Habits': 'NaN', 'Sun Exposure': 'NaN',\n",
    "              'Flossing Habits': 'NaN', 'Stress Management': 'NaN', 'Pets': 'NaN', \n",
    "              'Preventative Care': 'NaN', 'Outlook': 'NaN', 'Family & Friends': 'NaN'}]\n",
    "\n",
    "df = pd.DataFrame(init_data, columns = ['Gender', 'Age', 'Marital Status', 'Education Level', \n",
    "                             'Financial Income', 'Location', 'Family History', 'Medical History',\n",
    "                             'Weight', 'Smoking Habits', 'Drinking Habits', 'Eating Habits',\n",
    "                             'Exercise Levels', 'Sleep Habits', 'Safety Habits', 'Sun Exposure',\n",
    "                             'Flossing Habits', 'Stress Management', 'Pets', 'Preventative Care',\n",
    "                             'Outlook', 'Family & Friends'])\n",
    "                             \n",
    "                             "
   ]
  },
  {
   "cell_type": "code",
   "execution_count": 19,
   "metadata": {},
   "outputs": [
    {
     "name": "stdout",
     "output_type": "stream",
     "text": [
      "What is your birth gender? [Enter \"m\" for male and \"f\" for female.]m\n",
      "  Gender  Age Marital Status Education Level Financial Income Location  \\\n",
      "0      m  NaN            NaN             NaN              NaN      NaN   \n",
      "\n",
      "  Family History Medical History Weight Smoking Habits  ... Exercise Levels  \\\n",
      "0            NaN             NaN    NaN            NaN  ...             NaN   \n",
      "\n",
      "  Sleep Habits Safety Habits  Sun Exposure Flossing Habits Stress Management  \\\n",
      "0          NaN           NaN           NaN             NaN               NaN   \n",
      "\n",
      "  Pets Preventative Care Outlook Family & Friends  \n",
      "0  NaN               NaN     NaN              NaN  \n",
      "\n",
      "[1 rows x 22 columns]\n"
     ]
    }
   ],
   "source": [
    "# data input\n",
    "\n",
    "df['Gender'] = input('What is your birth gender? [Enter \"m\" for male and \"f\" for female.]') #Gender\n",
    "\n",
    "print(df)"
   ]
  },
  {
   "cell_type": "code",
   "execution_count": null,
   "metadata": {},
   "outputs": [],
   "source": []
  },
  {
   "cell_type": "code",
   "execution_count": null,
   "metadata": {},
   "outputs": [],
   "source": []
  },
  {
   "cell_type": "code",
   "execution_count": null,
   "metadata": {},
   "outputs": [],
   "source": []
  },
  {
   "cell_type": "code",
   "execution_count": null,
   "metadata": {},
   "outputs": [],
   "source": []
  },
  {
   "cell_type": "code",
   "execution_count": null,
   "metadata": {},
   "outputs": [],
   "source": []
  },
  {
   "cell_type": "code",
   "execution_count": null,
   "metadata": {},
   "outputs": [],
   "source": [
    "!pip freeze"
   ]
  }
 ],
 "metadata": {
  "kernelspec": {
   "display_name": "Python 3",
   "language": "python",
   "name": "python3"
  },
  "language_info": {
   "codemirror_mode": {
    "name": "ipython",
    "version": 3
   },
   "file_extension": ".py",
   "mimetype": "text/x-python",
   "name": "python",
   "nbconvert_exporter": "python",
   "pygments_lexer": "ipython3",
   "version": "3.7.4"
  }
 },
 "nbformat": 4,
 "nbformat_minor": 2
}
